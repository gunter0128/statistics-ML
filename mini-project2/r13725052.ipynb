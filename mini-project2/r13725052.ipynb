{
 "cells": [
  {
   "cell_type": "code",
   "execution_count": 3,
   "metadata": {},
   "outputs": [],
   "source": [
    "import pandas as pd\n",
    "import torch\n",
    "from torch.utils.data import DataLoader, Dataset\n",
    "from torchvision import transforms\n",
    "from torchvision.models import resnet50\n",
    "from sklearn.preprocessing import MultiLabelBinarizer\n",
    "from sklearn.model_selection import train_test_split, KFold\n",
    "from sklearn.metrics import accuracy_score\n",
    "from PIL import Image\n",
    "import csv"
   ]
  },
  {
   "cell_type": "code",
   "execution_count": 4,
   "metadata": {},
   "outputs": [
    {
     "name": "stdout",
     "output_type": "stream",
     "text": [
      "label_to_idx loaded successfully.\n"
     ]
    }
   ],
   "source": [
    "# Step 1: Load label_to_idx and validate\n",
    "label_to_idx = {}\n",
    "with open(\"label_to_idx.txt\", \"r\") as f:\n",
    "    for line in f:\n",
    "        label, idx = line.strip().split()\n",
    "        label_to_idx[label] = int(idx)\n",
    "\n",
    "# Ensure the number of labels is exactly 79 (index 0 to 78)\n",
    "assert len(label_to_idx) == 79, \"The number of classes in label_to_idx is not 79.\"\n",
    "print(\"label_to_idx loaded successfully.\")"
   ]
  },
  {
   "cell_type": "code",
   "execution_count": 5,
   "metadata": {},
   "outputs": [
    {
     "name": "stdout",
     "output_type": "stream",
     "text": [
      "Train labels processed successfully. Shape of y_train: (37866, 79)\n"
     ]
    }
   ],
   "source": [
    "# Step 2: Load and process train.csv\n",
    "train_df = pd.read_csv(\"train.csv\")\n",
    "train_df['labels'] = train_df['labels'].str.split(',')\n",
    "\n",
    "# Map labels to indices\n",
    "train_df['labels_idx'] = train_df['labels'].apply(\n",
    "    lambda labels: [label_to_idx[label] for label in labels if label in label_to_idx]\n",
    ")\n",
    "\n",
    "# Encode labels into a multi-label binary format\n",
    "mlb = MultiLabelBinarizer(classes=list(range(79)))  # Ensure 79 classes\n",
    "y_train = mlb.fit_transform(train_df['labels_idx'])\n",
    "print(\"Train labels processed successfully. Shape of y_train:\", y_train.shape)"
   ]
  },
  {
   "cell_type": "code",
   "execution_count": 6,
   "metadata": {},
   "outputs": [],
   "source": [
    "# Step 3: Define CustomDataset\n",
    "class CustomDataset(Dataset):\n",
    "    def __init__(self, dataframe, image_folder, transform, labels):\n",
    "        self.dataframe = dataframe\n",
    "        self.image_folder = image_folder\n",
    "        self.transform = transform\n",
    "        self.labels = labels\n",
    "\n",
    "    def __len__(self):\n",
    "        return len(self.dataframe)\n",
    "\n",
    "    def __getitem__(self, idx):\n",
    "        row = self.dataframe.iloc[idx]\n",
    "        img_path = f\"{self.image_folder}/{row['filename']}\"\n",
    "        image = Image.open(img_path).convert(\"RGB\")\n",
    "        image = self.transform(image)\n",
    "        label = torch.tensor(self.labels[idx], dtype=torch.float32)\n",
    "        return image, label\n",
    "\n",
    "# Define image transformations with data augmentation\n",
    "transform = transforms.Compose([\n",
    "    transforms.RandomRotation(degrees=15),  # Random rotation\n",
    "    transforms.ColorJitter(brightness=0.2, contrast=0.2, saturation=0.2, hue=0.1),  # Random brightness/contrast\n",
    "    transforms.RandomHorizontalFlip(p=0.5),  # Random horizontal flip\n",
    "    transforms.Resize((224, 224)),\n",
    "    transforms.ToTensor(),\n",
    "    transforms.Normalize(mean=[0.485, 0.456, 0.406], std=[0.229, 0.224, 0.225])\n",
    "])"
   ]
  },
  {
   "cell_type": "code",
   "execution_count": null,
   "metadata": {},
   "outputs": [
    {
     "name": "stdout",
     "output_type": "stream",
     "text": [
      "Fold 1\n"
     ]
    },
    {
     "name": "stderr",
     "output_type": "stream",
     "text": [
      "/home/joung/miniconda3/lib/python3.11/site-packages/torchvision/models/_utils.py:208: UserWarning: The parameter 'pretrained' is deprecated since 0.13 and may be removed in the future, please use 'weights' instead.\n",
      "  warnings.warn(\n",
      "/home/joung/miniconda3/lib/python3.11/site-packages/torchvision/models/_utils.py:223: UserWarning: Arguments other than a weight enum or `None` for 'weights' are deprecated since 0.13 and may be removed in the future. The current behavior is equivalent to passing `weights=ResNet50_Weights.IMAGENET1K_V1`. You can also use `weights=ResNet50_Weights.DEFAULT` to get the most up-to-date weights.\n",
      "  warnings.warn(msg)\n"
     ]
    }
   ],
   "source": [
    "from sklearn.metrics import f1_score, hamming_loss\n",
    "\n",
    "kf = KFold(n_splits=5, shuffle=True, random_state=42)  # 減少到 5 Fold\n",
    "device = torch.device(\"cuda\" if torch.cuda.is_available() else \"cpu\")\n",
    "\n",
    "for fold, (train_idx, val_idx) in enumerate(kf.split(train_df)):\n",
    "    print(f\"Fold {fold+1}\")\n",
    "\n",
    "    train_data, val_data = train_df.iloc[train_idx], train_df.iloc[val_idx]\n",
    "    y_train_data, y_val_data = y_train[train_idx], y_train[val_idx]\n",
    "\n",
    "    # Prepare datasets and dataloaders\n",
    "    train_dataset = CustomDataset(train_data, \"train_data\", transform, y_train_data)\n",
    "    val_dataset = CustomDataset(val_data, \"train_data\", transform, y_val_data)\n",
    "    train_loader = DataLoader(train_dataset, batch_size=64, shuffle=True)  # 增大 Batch Size\n",
    "    val_loader = DataLoader(val_dataset, batch_size=64, shuffle=False)\n",
    "\n",
    "    # Step 5: Define the model\n",
    "    model = resnet50(pretrained=True)\n",
    "    model.fc = torch.nn.Sequential(\n",
    "        torch.nn.Linear(model.fc.in_features, 512),\n",
    "        torch.nn.ReLU(),\n",
    "        torch.nn.Dropout(0.5),\n",
    "        torch.nn.Linear(512, 79),  # 79 classes\n",
    "        torch.nn.Sigmoid()\n",
    "    )\n",
    "    model = model.to(device)\n",
    "\n",
    "    # Step 6: Train the model with early stopping\n",
    "    criterion = torch.nn.BCELoss()\n",
    "    optimizer = torch.optim.Adam(model.parameters(), lr=0.001)\n",
    "\n",
    "    num_epochs = 20  # 減少到 20 個 Epoch\n",
    "    patience = 3  # Number of epochs to wait for improvement\n",
    "    best_loss = float('inf')\n",
    "    patience_counter = 0\n",
    "\n",
    "    for epoch in range(num_epochs):\n",
    "        # Training phase\n",
    "        model.train()\n",
    "        running_loss = 0.0\n",
    "        for images, labels in train_loader:\n",
    "            images, labels = images.to(device), labels.to(device)\n",
    "\n",
    "            optimizer.zero_grad()\n",
    "            outputs = model(images)\n",
    "            loss = criterion(outputs, labels)\n",
    "            loss.backward()\n",
    "            optimizer.step()\n",
    "\n",
    "            running_loss += loss.item()\n",
    "\n",
    "        # Validation phase\n",
    "        model.eval()\n",
    "        val_loss = 0.0\n",
    "        all_preds, all_labels = [], []\n",
    "        with torch.no_grad():\n",
    "            for images, labels in val_loader:\n",
    "                images, labels = images.to(device), labels.to(device)\n",
    "                outputs = model(images)\n",
    "                val_loss += criterion(outputs, labels).item()\n",
    "\n",
    "                preds = (outputs > 0.5).cpu().numpy()\n",
    "                all_preds.extend(preds)\n",
    "                all_labels.extend(labels.cpu().numpy())\n",
    "\n",
    "        f1 = f1_score(all_labels, all_preds, average=\"samples\")\n",
    "        hamming = hamming_loss(all_labels, all_preds)\n",
    "        print(f\"Epoch {epoch+1}, Train Loss: {running_loss / len(train_loader):.4f}, Val Loss: {val_loss / len(val_loader):.4f}, F1 Score: {f1:.4f}, Hamming Loss: {hamming:.4f}\")\n",
    "\n",
    "        # Early stopping logic\n",
    "        if val_loss < best_loss:\n",
    "            best_loss = val_loss\n",
    "            patience_counter = 0\n",
    "        else:\n",
    "            patience_counter += 1\n",
    "            if patience_counter >= patience:\n",
    "                print(\"Early stopping triggered. Best Val Loss:\", best_loss)\n",
    "                break\n"
   ]
  },
  {
   "cell_type": "code",
   "execution_count": 1,
   "metadata": {},
   "outputs": [
    {
     "ename": "NameError",
     "evalue": "name 'model' is not defined",
     "output_type": "error",
     "traceback": [
      "\u001b[0;31m---------------------------------------------------------------------------\u001b[0m",
      "\u001b[0;31mNameError\u001b[0m                                 Traceback (most recent call last)",
      "Cell \u001b[0;32mIn[1], line 2\u001b[0m\n\u001b[1;32m      1\u001b[0m \u001b[38;5;66;03m# Step 7: Generate submission.csv\u001b[39;00m\n\u001b[0;32m----> 2\u001b[0m \u001b[43mmodel\u001b[49m\u001b[38;5;241m.\u001b[39meval()\n\u001b[1;32m      3\u001b[0m test_df \u001b[38;5;241m=\u001b[39m pd\u001b[38;5;241m.\u001b[39mread_csv(\u001b[38;5;124m\"\u001b[39m\u001b[38;5;124mtest_data_public.csv\u001b[39m\u001b[38;5;124m\"\u001b[39m)\n\u001b[1;32m      5\u001b[0m \u001b[38;5;28;01mwith\u001b[39;00m \u001b[38;5;28mopen\u001b[39m(\u001b[38;5;124m\"\u001b[39m\u001b[38;5;124msubmission.csv\u001b[39m\u001b[38;5;124m\"\u001b[39m, \u001b[38;5;124m\"\u001b[39m\u001b[38;5;124mw\u001b[39m\u001b[38;5;124m\"\u001b[39m, newline\u001b[38;5;241m=\u001b[39m\u001b[38;5;124m\"\u001b[39m\u001b[38;5;124m\"\u001b[39m) \u001b[38;5;28;01mas\u001b[39;00m f:\n",
      "\u001b[0;31mNameError\u001b[0m: name 'model' is not defined"
     ]
    }
   ],
   "source": [
    "# Step 7: Generate submission.csv\n",
    "model.eval()\n",
    "test_df = pd.read_csv(\"test_data_public.csv\")\n",
    "\n",
    "with open(\"submission.csv\", \"w\", newline=\"\") as f:\n",
    "    writer = csv.writer(f)\n",
    "    writer.writerow([\"filename\"] + [f\"class_{i}\" for i in range(79)])\n",
    "\n",
    "    for _, row in test_df.iterrows():\n",
    "        img_path = f\"test_data/{row['filename']}\"\n",
    "        image = Image.open(img_path).convert(\"RGB\")\n",
    "        image = transform(image).unsqueeze(0).to(device)\n",
    "\n",
    "        preds = model(image).detach().cpu().numpy()[0]\n",
    "        preds_rounded = [f\"{p:.4f}\" for p in preds]\n",
    "        writer.writerow([row['filename']] + preds_rounded)\n",
    "\n",
    "print(\"Submission file generated: submission.csv\")"
   ]
  }
 ],
 "metadata": {
  "kernelspec": {
   "display_name": "base",
   "language": "python",
   "name": "python3"
  },
  "language_info": {
   "codemirror_mode": {
    "name": "ipython",
    "version": 3
   },
   "file_extension": ".py",
   "mimetype": "text/x-python",
   "name": "python",
   "nbconvert_exporter": "python",
   "pygments_lexer": "ipython3",
   "version": "3.11.5"
  }
 },
 "nbformat": 4,
 "nbformat_minor": 2
}
